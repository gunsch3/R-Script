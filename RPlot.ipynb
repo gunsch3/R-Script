{
 "cells": [
  {
   "cell_type": "code",
   "execution_count": 1,
   "id": "painted-moisture",
   "metadata": {},
   "outputs": [
    {
     "name": "stderr",
     "output_type": "stream",
     "text": [
      "Warning message in min(x):\n",
      "“no non-missing arguments to min; returning Inf”\n",
      "Warning message in max(x):\n",
      "“no non-missing arguments to max; returning -Inf”\n",
      "Warning message in min(x):\n",
      "“no non-missing arguments to min; returning Inf”\n",
      "Warning message in max(x):\n",
      "“no non-missing arguments to max; returning -Inf”\n"
     ]
    },
    {
     "ename": "ERROR",
     "evalue": "Error in plot.window(...): need finite 'xlim' values\n",
     "output_type": "error",
     "traceback": [
      "Error in plot.window(...): need finite 'xlim' values\nTraceback:\n",
      "1. plot(x = data$x, y = data$y, xlab = \"x axis\", ylab = \"y axis\", \n .     main = \"Plot\")",
      "2. plot.default(x = data$x, y = data$y, xlab = \"x axis\", ylab = \"y axis\", \n .     main = \"Plot\")",
      "3. localWindow(xlim, ylim, log, asp, ...)",
      "4. plot.window(...)"
     ]
    }
   ],
   "source": [
    "args <- commandArgs(trailingOnly = TRUE)\n",
    "\n",
    "png('orig.png')\n",
    "\n",
    "data=read.csv(args[1])\n",
    "plot(x = data$x,y = data$y, xlab = \"x axis\", ylab = \"y axis\", main = \"Plot\")\n",
    "\n",
    "dev.off()\n",
    "\n",
    "png('lm.png')\n",
    "\n",
    "data=read.csv(args[1])\n",
    "plot(x = data$x,y = data$y, xlab = \"x axis\", ylab = \"y axis\", main = \"Plot\")\n",
    "abline(lm(y ~ x, data), col = \"blue\")\n",
    "\n",
    "dev.off()\n"
   ]
  },
  {
   "cell_type": "code",
   "execution_count": null,
   "id": "geographic-palace",
   "metadata": {},
   "outputs": [],
   "source": []
  }
 ],
 "metadata": {
  "kernelspec": {
   "display_name": "R",
   "language": "R",
   "name": "ir"
  },
  "language_info": {
   "codemirror_mode": "r",
   "file_extension": ".r",
   "mimetype": "text/x-r-source",
   "name": "R",
   "pygments_lexer": "r",
   "version": "4.0.1"
  }
 },
 "nbformat": 4,
 "nbformat_minor": 5
}
